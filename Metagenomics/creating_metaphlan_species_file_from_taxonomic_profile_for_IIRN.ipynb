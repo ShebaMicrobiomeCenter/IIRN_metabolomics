{
 "cells": [
  {
   "attachments": {},
   "cell_type": "markdown",
   "metadata": {},
   "source": [
    "This script takes the taxonomic profile table and creates a table with only the species level taxonomy rank. It also fixes sample names\n"
   ]
  },
  {
   "cell_type": "code",
   "execution_count": null,
   "metadata": {},
   "outputs": [],
   "source": [
    "import pandas as pd\n",
    "import os"
   ]
  },
  {
   "cell_type": "code",
   "execution_count": null,
   "metadata": {},
   "outputs": [],
   "source": [
    "input_path = '/PATH/TO/OUTPUT' # Change to your output path\n",
    "file_path = 'metaphlan/merged/metaphlan_taxonomic_profiles.tsv'\n",
    "\n",
    "datasets_path = '/pita/users/hila/analysis/datasets/'"
   ]
  },
  {
   "cell_type": "code",
   "execution_count": null,
   "metadata": {},
   "outputs": [],
   "source": [
    "# Reading taxonomic profiles\n",
    "df_mp = pd.read_csv(os.path.join(input_path,file_path),sep = '\\t',index_col=0, skiprows = 1)\n",
    "df_mp"
   ]
  },
  {
   "cell_type": "code",
   "execution_count": null,
   "metadata": {},
   "outputs": [],
   "source": [
    "df_filt = df_mp.filter(like='s__',axis=0)\n",
    "df_species = df_filt[~df_filt.index.str.contains('t__')]\n",
    "df_species.shape"
   ]
  },
  {
   "cell_type": "code",
   "execution_count": null,
   "metadata": {},
   "outputs": [],
   "source": [
    "# Making the samples names \"prettier\" without the _DKDL and the _taxonomic suffix\n",
    "df_species.rename(columns=lambda x: x.replace(\"_taxonomic\", \"\"), inplace=True)\n",
    "df_species.rename(columns=lambda x: x.split(\"_DKDL\")[0], inplace=True)\n",
    "df_species.columns"
   ]
  },
  {
   "cell_type": "code",
   "execution_count": null,
   "metadata": {},
   "outputs": [],
   "source": [
    "df_species.to_csv(os.path.join(input_path,'metaphlan/merged/metaphlan_species_profiles.tsv'),sep = '\\t')\n"
   ]
  }
 ],
 "metadata": {
  "language_info": {
   "name": "python"
  },
  "orig_nbformat": 4
 },
 "nbformat": 4,
 "nbformat_minor": 2
}
